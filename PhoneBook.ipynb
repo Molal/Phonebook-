{
  "nbformat": 4,
  "nbformat_minor": 0,
  "metadata": {
    "colab": {
      "name": "PhoneBook.ipynb",
      "provenance": [],
      "authorship_tag": "ABX9TyM0jR9rxdFn7Yj3Y/eu9uAZ",
      "include_colab_link": true
    },
    "kernelspec": {
      "name": "python3",
      "display_name": "Python 3"
    },
    "language_info": {
      "name": "python"
    }
  },
  "cells": [
    {
      "cell_type": "markdown",
      "metadata": {
        "id": "view-in-github",
        "colab_type": "text"
      },
      "source": [
        "<a href=\"https://colab.research.google.com/github/Molal/Phonebook-/blob/main/PhoneBook.ipynb\" target=\"_parent\"><img src=\"https://colab.research.google.com/assets/colab-badge.svg\" alt=\"Open In Colab\"/></a>"
      ]
    },
    {
      "cell_type": "code",
      "metadata": {
        "id": "5wIuucYjPz9K"
      },
      "source": [
        "import re \n",
        "regex = \"^[a-z0-9]+[\\._]?[a-z0-9]+[@]\\w+[.]\\w{2,3}$\"\n",
        "def check(email):  \n",
        "    if(re.search(regex,email)):  \n",
        "        return True\n",
        "    else:  \n",
        "        return False\n",
        "\n",
        "def searchUser(name):\n",
        "    filename=\"/content/data.txt\"\n",
        "    d={}\n",
        "    with open(filename) as f:\n",
        "        for line in f:\n",
        "            userdetails=[]\n",
        "            line=line.strip()\n",
        "            alist=line.split(' ')\n",
        "            userdetails=alist[1],alist[2]\n",
        "            d[alist[0]]=userdetails\n",
        "    user=d.get(name,\"No contact with that name\")\n",
        "    if(len(user)==2):\n",
        "        print(\"Name:\",name)\n",
        "        print(\"Email:\",user[0])\n",
        "        print(\"Phone:\",user[1])\n",
        "    else:\n",
        "        print(user)\n",
        "        addnew=input(\"Would you like to add the new user? Answer with Y or y to add \")\n",
        "        if(addnew==\"Y\" or addnew==\"y\"):  \n",
        "          email=input(\"Please enter Email: \\n \")          \n",
        "          while (check(email)==False):\n",
        "            print(\"Invalid email address format specified\")\n",
        "            email=input(\"Please enter Email:\\n \")\n",
        "          phone=input(\"Please enter Phone \\n\")\n",
        "          f=open('/content/data.txt', \"a+\")\n",
        "          f.write('%s %s %s\\n'%(name,phone,email))\n",
        "          f.close()\n",
        "          print('%s Has been added to the text file successfully'%name)\n",
        "           \n",
        "name=input(\"Please enter name to search: \")\n",
        "searchUser(name)"
      ],
      "execution_count": null,
      "outputs": []
    }
  ]
}